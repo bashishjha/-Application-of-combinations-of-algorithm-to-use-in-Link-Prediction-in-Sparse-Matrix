{
 "cells": [
  {
   "cell_type": "code",
   "execution_count": 1,
   "metadata": {},
   "outputs": [
    {
     "name": "stdout",
     "output_type": "stream",
     "text": [
      "Wall time: 33.6 s\n"
     ]
    }
   ],
   "source": [
    "%%time\n",
    "from sklearn.cluster import KMeans\n",
    "import pandas as pd\n",
    "from matplotlib import pyplot as plt\n",
    "df=pd.read_excel(\"output.xlsx\")"
   ]
  },
  {
   "cell_type": "code",
   "execution_count": 2,
   "metadata": {},
   "outputs": [
    {
     "data": {
      "text/html": [
       "<div>\n",
       "<style scoped>\n",
       "    .dataframe tbody tr th:only-of-type {\n",
       "        vertical-align: middle;\n",
       "    }\n",
       "\n",
       "    .dataframe tbody tr th {\n",
       "        vertical-align: top;\n",
       "    }\n",
       "\n",
       "    .dataframe thead th {\n",
       "        text-align: right;\n",
       "    }\n",
       "</style>\n",
       "<table border=\"1\" class=\"dataframe\">\n",
       "  <thead>\n",
       "    <tr style=\"text-align: right;\">\n",
       "      <th></th>\n",
       "      <th>InvoiceNo</th>\n",
       "      <th>StockCode</th>\n",
       "      <th>lower</th>\n",
       "      <th>Description</th>\n",
       "      <th>Quantity</th>\n",
       "      <th>InvoiceDate</th>\n",
       "      <th>UnitPrice</th>\n",
       "      <th>CustomerID</th>\n",
       "      <th>Country</th>\n",
       "    </tr>\n",
       "  </thead>\n",
       "  <tbody>\n",
       "    <tr>\n",
       "      <th>0</th>\n",
       "      <td>536365</td>\n",
       "      <td>22752</td>\n",
       "      <td>set 7 babushka nesting boxes</td>\n",
       "      <td>SET 7 BABUSHKA NESTING BOXES</td>\n",
       "      <td>2</td>\n",
       "      <td>2010-12-01 08:26:00</td>\n",
       "      <td>7.65</td>\n",
       "      <td>17850</td>\n",
       "      <td>United Kingdom</td>\n",
       "    </tr>\n",
       "    <tr>\n",
       "      <th>1</th>\n",
       "      <td>536365</td>\n",
       "      <td>21730</td>\n",
       "      <td>glass star frosted t-light holder</td>\n",
       "      <td>GLASS STAR FROSTED T-LIGHT HOLDER</td>\n",
       "      <td>6</td>\n",
       "      <td>2010-12-01 08:26:00</td>\n",
       "      <td>4.25</td>\n",
       "      <td>17850</td>\n",
       "      <td>United Kingdom</td>\n",
       "    </tr>\n",
       "    <tr>\n",
       "      <th>2</th>\n",
       "      <td>536366</td>\n",
       "      <td>22633</td>\n",
       "      <td>hand warmer union jack</td>\n",
       "      <td>HAND WARMER UNION JACK</td>\n",
       "      <td>6</td>\n",
       "      <td>2010-12-01 08:28:00</td>\n",
       "      <td>1.85</td>\n",
       "      <td>17850</td>\n",
       "      <td>United Kingdom</td>\n",
       "    </tr>\n",
       "    <tr>\n",
       "      <th>3</th>\n",
       "      <td>536366</td>\n",
       "      <td>22632</td>\n",
       "      <td>hand warmer red polka dot</td>\n",
       "      <td>HAND WARMER RED POLKA DOT</td>\n",
       "      <td>6</td>\n",
       "      <td>2010-12-01 08:28:00</td>\n",
       "      <td>1.85</td>\n",
       "      <td>17850</td>\n",
       "      <td>United Kingdom</td>\n",
       "    </tr>\n",
       "    <tr>\n",
       "      <th>4</th>\n",
       "      <td>536367</td>\n",
       "      <td>22745</td>\n",
       "      <td>poppy's playhouse bedroom</td>\n",
       "      <td>POPPY'S PLAYHOUSE BEDROOM</td>\n",
       "      <td>6</td>\n",
       "      <td>2010-12-01 08:34:00</td>\n",
       "      <td>2.10</td>\n",
       "      <td>13047</td>\n",
       "      <td>United Kingdom</td>\n",
       "    </tr>\n",
       "  </tbody>\n",
       "</table>\n",
       "</div>"
      ],
      "text/plain": [
       "   InvoiceNo  StockCode                              lower  \\\n",
       "0     536365      22752       set 7 babushka nesting boxes   \n",
       "1     536365      21730  glass star frosted t-light holder   \n",
       "2     536366      22633             hand warmer union jack   \n",
       "3     536366      22632          hand warmer red polka dot   \n",
       "4     536367      22745         poppy's playhouse bedroom    \n",
       "\n",
       "                         Description  Quantity         InvoiceDate  UnitPrice  \\\n",
       "0       SET 7 BABUSHKA NESTING BOXES         2 2010-12-01 08:26:00       7.65   \n",
       "1  GLASS STAR FROSTED T-LIGHT HOLDER         6 2010-12-01 08:26:00       4.25   \n",
       "2             HAND WARMER UNION JACK         6 2010-12-01 08:28:00       1.85   \n",
       "3          HAND WARMER RED POLKA DOT         6 2010-12-01 08:28:00       1.85   \n",
       "4         POPPY'S PLAYHOUSE BEDROOM          6 2010-12-01 08:34:00       2.10   \n",
       "\n",
       "   CustomerID         Country  \n",
       "0       17850  United Kingdom  \n",
       "1       17850  United Kingdom  \n",
       "2       17850  United Kingdom  \n",
       "3       17850  United Kingdom  \n",
       "4       13047  United Kingdom  "
      ]
     },
     "execution_count": 2,
     "metadata": {},
     "output_type": "execute_result"
    }
   ],
   "source": [
    "df.head()"
   ]
  },
  {
   "cell_type": "code",
   "execution_count": 3,
   "metadata": {},
   "outputs": [
    {
     "data": {
      "text/plain": [
       "<matplotlib.collections.PathCollection at 0x145fc97c5f8>"
      ]
     },
     "execution_count": 3,
     "metadata": {},
     "output_type": "execute_result"
    },
    {
     "data": {
      "image/png": "[encoded data removed]",
      "text/plain": [
       "<Figure size 432x288 with 1 Axes>"
      ]
     },
     "metadata": {},
     "output_type": "display_data"
    }
   ],
   "source": [
    "plt.scatter(df['StockCode'],df['CustomerID'])"
   ]
  },
  {
   "cell_type": "code",
   "execution_count": 4,
   "metadata": {},
   "outputs": [
    {
     "name": "stdout",
     "output_type": "stream",
     "text": [
      "0.0\n"
     ]
    }
   ],
   "source": [
    "import time\n",
    "\n",
    "t = time.process_time()\n",
    "km=KMeans(n_clusters=4)\n",
    "elapsed_time = time.process_time()-t\n",
    "print(elapsed_time)"
   ]
  },
  {
   "cell_type": "code",
   "execution_count": 5,
   "metadata": {},
   "outputs": [],
   "source": [
    "y_predicted=km.fit_predict(df[['StockCode','CustomerID']])"
   ]
  },
  {
   "cell_type": "code",
   "execution_count": 6,
   "metadata": {},
   "outputs": [
    {
     "data": {
      "text/plain": [
       "array([0, 0, 0, 0, 0, 0, 0, 0, 0, 0, 0, 0, 0, 0, 0, 0, 0, 0, 0, 0, 0, 0,\n",
       "       0, 0, 0, 0, 0, 0, 0, 0, 0, 0, 0, 0, 0, 0, 0, 0, 0, 0, 0, 1, 2, 1,\n",
       "       1, 1, 1, 1, 1, 3])"
      ]
     },
     "execution_count": 6,
     "metadata": {},
     "output_type": "execute_result"
    }
   ],
   "source": [
    "y_predicted"
   ]
  },
  {
   "cell_type": "code",
   "execution_count": 7,
   "metadata": {},
   "outputs": [
    {
     "data": {
      "text/html": [
       "<div>\n",
       "<style scoped>\n",
       "    .dataframe tbody tr th:only-of-type {\n",
       "        vertical-align: middle;\n",
       "    }\n",
       "\n",
       "    .dataframe tbody tr th {\n",
       "        vertical-align: top;\n",
       "    }\n",
       "\n",
       "    .dataframe thead th {\n",
       "        text-align: right;\n",
       "    }\n",
       "</style>\n",
       "<table border=\"1\" class=\"dataframe\">\n",
       "  <thead>\n",
       "    <tr style=\"text-align: right;\">\n",
       "      <th></th>\n",
       "      <th>InvoiceNo</th>\n",
       "      <th>StockCode</th>\n",
       "      <th>lower</th>\n",
       "      <th>Description</th>\n",
       "      <th>Quantity</th>\n",
       "      <th>InvoiceDate</th>\n",
       "      <th>UnitPrice</th>\n",
       "      <th>CustomerID</th>\n",
       "      <th>Country</th>\n",
       "      <th>cluster</th>\n",
       "    </tr>\n",
       "  </thead>\n",
       "  <tbody>\n",
       "    <tr>\n",
       "      <th>0</th>\n",
       "      <td>536365</td>\n",
       "      <td>22752</td>\n",
       "      <td>set 7 babushka nesting boxes</td>\n",
       "      <td>SET 7 BABUSHKA NESTING BOXES</td>\n",
       "      <td>2</td>\n",
       "      <td>2010-12-01 08:26:00</td>\n",
       "      <td>7.65</td>\n",
       "      <td>17850</td>\n",
       "      <td>United Kingdom</td>\n",
       "      <td>0</td>\n",
       "    </tr>\n",
       "    <tr>\n",
       "      <th>1</th>\n",
       "      <td>536365</td>\n",
       "      <td>21730</td>\n",
       "      <td>glass star frosted t-light holder</td>\n",
       "      <td>GLASS STAR FROSTED T-LIGHT HOLDER</td>\n",
       "      <td>6</td>\n",
       "      <td>2010-12-01 08:26:00</td>\n",
       "      <td>4.25</td>\n",
       "      <td>17850</td>\n",
       "      <td>United Kingdom</td>\n",
       "      <td>0</td>\n",
       "    </tr>\n",
       "    <tr>\n",
       "      <th>2</th>\n",
       "      <td>536366</td>\n",
       "      <td>22633</td>\n",
       "      <td>hand warmer union jack</td>\n",
       "      <td>HAND WARMER UNION JACK</td>\n",
       "      <td>6</td>\n",
       "      <td>2010-12-01 08:28:00</td>\n",
       "      <td>1.85</td>\n",
       "      <td>17850</td>\n",
       "      <td>United Kingdom</td>\n",
       "      <td>0</td>\n",
       "    </tr>\n",
       "    <tr>\n",
       "      <th>3</th>\n",
       "      <td>536366</td>\n",
       "      <td>22632</td>\n",
       "      <td>hand warmer red polka dot</td>\n",
       "      <td>HAND WARMER RED POLKA DOT</td>\n",
       "      <td>6</td>\n",
       "      <td>2010-12-01 08:28:00</td>\n",
       "      <td>1.85</td>\n",
       "      <td>17850</td>\n",
       "      <td>United Kingdom</td>\n",
       "      <td>0</td>\n",
       "    </tr>\n",
       "    <tr>\n",
       "      <th>4</th>\n",
       "      <td>536367</td>\n",
       "      <td>22745</td>\n",
       "      <td>poppy's playhouse bedroom</td>\n",
       "      <td>POPPY'S PLAYHOUSE BEDROOM</td>\n",
       "      <td>6</td>\n",
       "      <td>2010-12-01 08:34:00</td>\n",
       "      <td>2.10</td>\n",
       "      <td>13047</td>\n",
       "      <td>United Kingdom</td>\n",
       "      <td>0</td>\n",
       "    </tr>\n",
       "  </tbody>\n",
       "</table>\n",
       "</div>"
      ],
      "text/plain": [
       "   InvoiceNo  StockCode                              lower  \\\n",
       "0     536365      22752       set 7 babushka nesting boxes   \n",
       "1     536365      21730  glass star frosted t-light holder   \n",
       "2     536366      22633             hand warmer union jack   \n",
       "3     536366      22632          hand warmer red polka dot   \n",
       "4     536367      22745         poppy's playhouse bedroom    \n",
       "\n",
       "                         Description  Quantity         InvoiceDate  UnitPrice  \\\n",
       "0       SET 7 BABUSHKA NESTING BOXES         2 2010-12-01 08:26:00       7.65   \n",
       "1  GLASS STAR FROSTED T-LIGHT HOLDER         6 2010-12-01 08:26:00       4.25   \n",
       "2             HAND WARMER UNION JACK         6 2010-12-01 08:28:00       1.85   \n",
       "3          HAND WARMER RED POLKA DOT         6 2010-12-01 08:28:00       1.85   \n",
       "4         POPPY'S PLAYHOUSE BEDROOM          6 2010-12-01 08:34:00       2.10   \n",
       "\n",
       "   CustomerID         Country  cluster  \n",
       "0       17850  United Kingdom        0  \n",
       "1       17850  United Kingdom        0  \n",
       "2       17850  United Kingdom        0  \n",
       "3       17850  United Kingdom        0  \n",
       "4       13047  United Kingdom        0  "
      ]
     },
     "execution_count": 7,
     "metadata": {},
     "output_type": "execute_result"
    }
   ],
   "source": [
    "df['cluster']=y_predicted\n",
    "df.head()"
   ]
  },
  {
   "cell_type": "code",
   "execution_count": 8,
   "metadata": {},
   "outputs": [
    {
     "data": {
      "text/plain": [
       "<matplotlib.legend.Legend at 0x145fce4e908>"
      ]
     },
     "execution_count": 8,
     "metadata": {},
     "output_type": "execute_result"
    },
    {
     "data": {
      "image/png": "[encoded data removed]",
      "text/plain": [
       "<Figure size 432x288 with 1 Axes>"
      ]
     },
     "metadata": {},
     "output_type": "display_data"
    }
   ],
   "source": [
    "df1=df[df.cluster==0]\n",
    "df2=df[df.cluster==1]\n",
    "df3=df[df.cluster==2]\n",
    "df4=df[df.cluster==3]\n",
    "\n",
    "plt.scatter(df1['StockCode'],df1['CustomerID'],color='green')\n",
    "plt.scatter(df2['StockCode'],df2['CustomerID'],color='red')\n",
    "plt.scatter(df3['StockCode'],df3['CustomerID'],color='yellow')\n",
    "plt.scatter(df4['StockCode'],df4['CustomerID'],color='black')\n",
    "\n",
    "plt.xlabel('StockCode')\n",
    "plt.ylabel('CustomerId')\n",
    "plt.legend()\n"
   ]
  },
  {
   "cell_type": "code",
   "execution_count": 10,
   "metadata": {},
   "outputs": [],
   "source": [
    "from sklearn.preprocessing import MinMaxScaler"
   ]
  },
  {
   "cell_type": "code",
   "execution_count": 11,
   "metadata": {},
   "outputs": [
    {
     "name": "stderr",
     "output_type": "stream",
     "text": [
      "C:\\Users\\Ashish Jha\\Anaconda3\\lib\\site-packages\\sklearn\\preprocessing\\data.py:323: DataConversionWarning: Data with input dtype int64 were all converted to float64 by MinMaxScaler.\n",
      "  return self.partial_fit(X, y)\n",
      "C:\\Users\\Ashish Jha\\Anaconda3\\lib\\site-packages\\sklearn\\preprocessing\\data.py:323: DataConversionWarning: Data with input dtype int64 were all converted to float64 by MinMaxScaler.\n",
      "  return self.partial_fit(X, y)\n"
     ]
    },
    {
     "data": {
      "text/html": [
       "<div>\n",
       "<style scoped>\n",
       "    .dataframe tbody tr th:only-of-type {\n",
       "        vertical-align: middle;\n",
       "    }\n",
       "\n",
       "    .dataframe tbody tr th {\n",
       "        vertical-align: top;\n",
       "    }\n",
       "\n",
       "    .dataframe thead th {\n",
       "        text-align: right;\n",
       "    }\n",
       "</style>\n",
       "<table border=\"1\" class=\"dataframe\">\n",
       "  <thead>\n",
       "    <tr style=\"text-align: right;\">\n",
       "      <th></th>\n",
       "      <th>InvoiceNo</th>\n",
       "      <th>StockCode</th>\n",
       "      <th>lower</th>\n",
       "      <th>Description</th>\n",
       "      <th>Quantity</th>\n",
       "      <th>InvoiceDate</th>\n",
       "      <th>UnitPrice</th>\n",
       "      <th>CustomerID</th>\n",
       "      <th>Country</th>\n",
       "      <th>cluster</th>\n",
       "    </tr>\n",
       "  </thead>\n",
       "  <tbody>\n",
       "    <tr>\n",
       "      <th>0</th>\n",
       "      <td>536365</td>\n",
       "      <td>0.169726</td>\n",
       "      <td>set 7 babushka nesting boxes</td>\n",
       "      <td>SET 7 BABUSHKA NESTING BOXES</td>\n",
       "      <td>2</td>\n",
       "      <td>2010-12-01 08:26:00</td>\n",
       "      <td>7.65</td>\n",
       "      <td>1.000000</td>\n",
       "      <td>United Kingdom</td>\n",
       "      <td>0</td>\n",
       "    </tr>\n",
       "    <tr>\n",
       "      <th>1</th>\n",
       "      <td>536365</td>\n",
       "      <td>0.156121</td>\n",
       "      <td>glass star frosted t-light holder</td>\n",
       "      <td>GLASS STAR FROSTED T-LIGHT HOLDER</td>\n",
       "      <td>6</td>\n",
       "      <td>2010-12-01 08:26:00</td>\n",
       "      <td>4.25</td>\n",
       "      <td>1.000000</td>\n",
       "      <td>United Kingdom</td>\n",
       "      <td>0</td>\n",
       "    </tr>\n",
       "    <tr>\n",
       "      <th>2</th>\n",
       "      <td>536366</td>\n",
       "      <td>0.168142</td>\n",
       "      <td>hand warmer union jack</td>\n",
       "      <td>HAND WARMER UNION JACK</td>\n",
       "      <td>6</td>\n",
       "      <td>2010-12-01 08:28:00</td>\n",
       "      <td>1.85</td>\n",
       "      <td>1.000000</td>\n",
       "      <td>United Kingdom</td>\n",
       "      <td>0</td>\n",
       "    </tr>\n",
       "    <tr>\n",
       "      <th>3</th>\n",
       "      <td>536366</td>\n",
       "      <td>0.168129</td>\n",
       "      <td>hand warmer red polka dot</td>\n",
       "      <td>HAND WARMER RED POLKA DOT</td>\n",
       "      <td>6</td>\n",
       "      <td>2010-12-01 08:28:00</td>\n",
       "      <td>1.85</td>\n",
       "      <td>1.000000</td>\n",
       "      <td>United Kingdom</td>\n",
       "      <td>0</td>\n",
       "    </tr>\n",
       "    <tr>\n",
       "      <th>4</th>\n",
       "      <td>536367</td>\n",
       "      <td>0.169633</td>\n",
       "      <td>poppy's playhouse bedroom</td>\n",
       "      <td>POPPY'S PLAYHOUSE BEDROOM</td>\n",
       "      <td>6</td>\n",
       "      <td>2010-12-01 08:34:00</td>\n",
       "      <td>2.10</td>\n",
       "      <td>0.088096</td>\n",
       "      <td>United Kingdom</td>\n",
       "      <td>0</td>\n",
       "    </tr>\n",
       "  </tbody>\n",
       "</table>\n",
       "</div>"
      ],
      "text/plain": [
       "   InvoiceNo  StockCode                              lower  \\\n",
       "0     536365   0.169726       set 7 babushka nesting boxes   \n",
       "1     536365   0.156121  glass star frosted t-light holder   \n",
       "2     536366   0.168142             hand warmer union jack   \n",
       "3     536366   0.168129          hand warmer red polka dot   \n",
       "4     536367   0.169633         poppy's playhouse bedroom    \n",
       "\n",
       "                         Description  Quantity         InvoiceDate  UnitPrice  \\\n",
       "0       SET 7 BABUSHKA NESTING BOXES         2 2010-12-01 08:26:00       7.65   \n",
       "1  GLASS STAR FROSTED T-LIGHT HOLDER         6 2010-12-01 08:26:00       4.25   \n",
       "2             HAND WARMER UNION JACK         6 2010-12-01 08:28:00       1.85   \n",
       "3          HAND WARMER RED POLKA DOT         6 2010-12-01 08:28:00       1.85   \n",
       "4         POPPY'S PLAYHOUSE BEDROOM          6 2010-12-01 08:34:00       2.10   \n",
       "\n",
       "   CustomerID         Country  cluster  \n",
       "0    1.000000  United Kingdom        0  \n",
       "1    1.000000  United Kingdom        0  \n",
       "2    1.000000  United Kingdom        0  \n",
       "3    1.000000  United Kingdom        0  \n",
       "4    0.088096  United Kingdom        0  "
      ]
     },
     "execution_count": 11,
     "metadata": {},
     "output_type": "execute_result"
    }
   ],
   "source": [
    "scaler=MinMaxScaler()\n",
    "scaler.fit(df[['CustomerID']])\n",
    "df[['CustomerID']]=scaler.transform(df[['CustomerID']])\n",
    "df.head()\n",
    "\n",
    "scaler.fit(df[['StockCode']])\n",
    "df[['StockCode']]=scaler.transform(df[['StockCode']])\n",
    "df.head()\n"
   ]
  },
  {
   "cell_type": "code",
   "execution_count": 12,
   "metadata": {
    "scrolled": false
   },
   "outputs": [
    {
     "data": {
      "text/html": [
       "<div>\n",
       "<style scoped>\n",
       "    .dataframe tbody tr th:only-of-type {\n",
       "        vertical-align: middle;\n",
       "    }\n",
       "\n",
       "    .dataframe tbody tr th {\n",
       "        vertical-align: top;\n",
       "    }\n",
       "\n",
       "    .dataframe thead th {\n",
       "        text-align: right;\n",
       "    }\n",
       "</style>\n",
       "<table border=\"1\" class=\"dataframe\">\n",
       "  <thead>\n",
       "    <tr style=\"text-align: right;\">\n",
       "      <th></th>\n",
       "      <th>InvoiceNo</th>\n",
       "      <th>StockCode</th>\n",
       "      <th>lower</th>\n",
       "      <th>Description</th>\n",
       "      <th>Quantity</th>\n",
       "      <th>InvoiceDate</th>\n",
       "      <th>UnitPrice</th>\n",
       "      <th>CustomerID</th>\n",
       "      <th>Country</th>\n",
       "      <th>cluster</th>\n",
       "    </tr>\n",
       "  </thead>\n",
       "  <tbody>\n",
       "    <tr>\n",
       "      <th>45</th>\n",
       "      <td>536365</td>\n",
       "      <td>0.985437</td>\n",
       "      <td>red woolly hottie white heart.</td>\n",
       "      <td>RED WOOLLY HOTTIE WHITE HEART.</td>\n",
       "      <td>6</td>\n",
       "      <td>2010-12-01 08:26:00</td>\n",
       "      <td>3.39</td>\n",
       "      <td>1.000000</td>\n",
       "      <td>United Kingdom</td>\n",
       "      <td>1</td>\n",
       "    </tr>\n",
       "    <tr>\n",
       "      <th>46</th>\n",
       "      <td>536367</td>\n",
       "      <td>0.996752</td>\n",
       "      <td>assorted colour bird ornament</td>\n",
       "      <td>ASSORTED COLOUR BIRD ORNAMENT</td>\n",
       "      <td>32</td>\n",
       "      <td>2010-12-01 08:34:00</td>\n",
       "      <td>1.69</td>\n",
       "      <td>0.088096</td>\n",
       "      <td>United Kingdom</td>\n",
       "      <td>1</td>\n",
       "    </tr>\n",
       "    <tr>\n",
       "      <th>47</th>\n",
       "      <td>536367</td>\n",
       "      <td>0.997950</td>\n",
       "      <td>box of 6 assorted colour teaspoons</td>\n",
       "      <td>BOX OF 6 ASSORTED COLOUR TEASPOONS</td>\n",
       "      <td>6</td>\n",
       "      <td>2010-12-01 08:34:00</td>\n",
       "      <td>4.25</td>\n",
       "      <td>0.088096</td>\n",
       "      <td>United Kingdom</td>\n",
       "      <td>1</td>\n",
       "    </tr>\n",
       "    <tr>\n",
       "      <th>48</th>\n",
       "      <td>536373</td>\n",
       "      <td>1.000000</td>\n",
       "      <td>white hanging heart t-light holder</td>\n",
       "      <td>WHITE HANGING HEART T-LIGHT HOLDER</td>\n",
       "      <td>6</td>\n",
       "      <td>2010-12-01 09:02:00</td>\n",
       "      <td>2.55</td>\n",
       "      <td>1.000000</td>\n",
       "      <td>United Kingdom</td>\n",
       "      <td>1</td>\n",
       "    </tr>\n",
       "    <tr>\n",
       "      <th>49</th>\n",
       "      <td>536367</td>\n",
       "      <td>0.508313</td>\n",
       "      <td>doormat new england</td>\n",
       "      <td>DOORMAT NEW ENGLAND</td>\n",
       "      <td>4</td>\n",
       "      <td>2010-12-01 08:34:00</td>\n",
       "      <td>7.95</td>\n",
       "      <td>0.088096</td>\n",
       "      <td>United Kingdom</td>\n",
       "      <td>3</td>\n",
       "    </tr>\n",
       "  </tbody>\n",
       "</table>\n",
       "</div>"
      ],
      "text/plain": [
       "    InvoiceNo  StockCode                               lower  \\\n",
       "45     536365   0.985437      red woolly hottie white heart.   \n",
       "46     536367   0.996752       assorted colour bird ornament   \n",
       "47     536367   0.997950  box of 6 assorted colour teaspoons   \n",
       "48     536373   1.000000  white hanging heart t-light holder   \n",
       "49     536367   0.508313                 doormat new england   \n",
       "\n",
       "                           Description  Quantity         InvoiceDate  \\\n",
       "45      RED WOOLLY HOTTIE WHITE HEART.         6 2010-12-01 08:26:00   \n",
       "46       ASSORTED COLOUR BIRD ORNAMENT        32 2010-12-01 08:34:00   \n",
       "47  BOX OF 6 ASSORTED COLOUR TEASPOONS         6 2010-12-01 08:34:00   \n",
       "48  WHITE HANGING HEART T-LIGHT HOLDER         6 2010-12-01 09:02:00   \n",
       "49                 DOORMAT NEW ENGLAND         4 2010-12-01 08:34:00   \n",
       "\n",
       "    UnitPrice  CustomerID         Country  cluster  \n",
       "45       3.39    1.000000  United Kingdom        1  \n",
       "46       1.69    0.088096  United Kingdom        1  \n",
       "47       4.25    0.088096  United Kingdom        1  \n",
       "48       2.55    1.000000  United Kingdom        1  \n",
       "49       7.95    0.088096  United Kingdom        3  "
      ]
     },
     "execution_count": 12,
     "metadata": {},
     "output_type": "execute_result"
    }
   ],
   "source": [
    "df.tail()"
   ]
  },
  {
   "cell_type": "code",
   "execution_count": 13,
   "metadata": {},
   "outputs": [],
   "source": [
    "k_rng = range(1,10)\n",
    "sse=[]\n",
    "for k in k_rng:\n",
    "    km=KMeans(n_clusters=k)\n",
    "    km.fit(df[['StockCode','CustomerID']])\n",
    "    sse.append(km.inertia_)"
   ]
  },
  {
   "cell_type": "code",
   "execution_count": 14,
   "metadata": {},
   "outputs": [
    {
     "data": {
      "text/plain": [
       "[12.921735350541852,\n",
       " 3.4784308937072503,\n",
       " 1.577867879443897,\n",
       " 0.2732965975125973,\n",
       " 0.1526367857559635,\n",
       " 0.07093754169585201,\n",
       " 0.04406829181933872,\n",
       " 0.019022808329831428,\n",
       " 0.0024660088780959527]"
      ]
     },
     "execution_count": 14,
     "metadata": {},
     "output_type": "execute_result"
    }
   ],
   "source": [
    "sse"
   ]
  },
  {
   "cell_type": "code",
   "execution_count": 15,
   "metadata": {},
   "outputs": [
    {
     "data": {
      "text/plain": [
       "[<matplotlib.lines.Line2D at 0x145fcf04898>]"
      ]
     },
     "execution_count": 15,
     "metadata": {},
     "output_type": "execute_result"
    },
    {
     "data": {
      "image/png": "[encoded data removed]",
      "text/plain": [
       "<Figure size 432x288 with 1 Axes>"
      ]
     },
     "metadata": {},
     "output_type": "display_data"
    }
   ],
   "source": [
    "plt.xlabel('k')\n",
    "plt.ylabel('sum of squared error')\n",
    "plt.plot(k_rng,sse)"
   ]
  },
  {
   "cell_type": "code",
   "execution_count": 16,
   "metadata": {},
   "outputs": [],
   "source": [
    "df.to_excel(\"output.xlsx\")"
   ]
  },
  {
   "cell_type": "code",
   "execution_count": null,
   "metadata": {},
   "outputs": [],
   "source": []
  }
 ],
 "metadata": {
  "kernelspec": {
   "display_name": "Python 3",
   "language": "python",
   "name": "python3"
  },
  "language_info": {
   "codemirror_mode": {
    "name": "ipython",
    "version": 3
   },
   "file_extension": ".py",
   "mimetype": "text/x-python",
   "name": "python",
   "nbconvert_exporter": "python",
   "pygments_lexer": "ipython3",
   "version": "3.6.5"
  }
 },
 "nbformat": 4,
 "nbformat_minor": 2
}
